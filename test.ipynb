{
 "cells": [
  {
   "cell_type": "code",
   "execution_count": 1,
   "metadata": {},
   "outputs": [],
   "source": [
    "import math"
   ]
  },
  {
   "cell_type": "code",
   "execution_count": 63,
   "metadata": {},
   "outputs": [],
   "source": [
    "input_list = [1,2,3,4,5]"
   ]
  },
  {
   "cell_type": "code",
   "execution_count": 11,
   "metadata": {},
   "outputs": [],
   "source": [
    "def sum_list(input_list):\n",
    "    sum_return = 0\n",
    "    for i in range(0,len(input_list)):\n",
    "        sum_return = sum_return + input_list[i]\n",
    "    return sum_return"
   ]
  },
  {
   "cell_type": "code",
   "execution_count": 14,
   "metadata": {},
   "outputs": [],
   "source": [
    "def product_list(input_list):\n",
    "    product_return = 1\n",
    "    for i in range(0,len(input_list)):\n",
    "        product_return = product_return*input_list[i]\n",
    "    return product_return"
   ]
  },
  {
   "cell_type": "code",
   "execution_count": 17,
   "metadata": {},
   "outputs": [],
   "source": [
    "def greater_than(input_list,thresh):\n",
    "    greater_list = []\n",
    "    for i in range(0,len(input_list)):\n",
    "        if input_list[i]>thresh:\n",
    "            greater_list.append(input_list[i])\n",
    "    return greater_list"
   ]
  },
  {
   "cell_type": "code",
   "execution_count": 19,
   "metadata": {},
   "outputs": [],
   "source": [
    "def greater_than_lc(input_list,thresh):\n",
    "    greater_list = [i for i in input_list if i>thresh]\n",
    "    return greater_list"
   ]
  },
  {
   "cell_type": "code",
   "execution_count": 25,
   "metadata": {},
   "outputs": [],
   "source": [
    "def long_words(input_str,thresh):\n",
    "    greater_words = []\n",
    "    for i in input_str:\n",
    "        if len(i)>thresh:\n",
    "            greater_words.append(i)\n",
    "    return greater_words"
   ]
  },
  {
   "cell_type": "code",
   "execution_count": 34,
   "metadata": {},
   "outputs": [],
   "source": [
    "def square_list(input_list):\n",
    "    square_num_list = []\n",
    "    for i in input_list:\n",
    "        square_num_list.append(i**2)\n",
    "    return square_num_list"
   ]
  },
  {
   "cell_type": "code",
   "execution_count": 39,
   "metadata": {},
   "outputs": [],
   "source": [
    "def square(x):\n",
    "    return x*x"
   ]
  },
  {
   "cell_type": "code",
   "execution_count": 43,
   "metadata": {},
   "outputs": [],
   "source": [
    "def apply_to_list(input_list,func):\n",
    "    apply_list = []\n",
    "    for i in input_list:\n",
    "        apply_list.append(func(i))\n",
    "    return apply_list"
   ]
  },
  {
   "cell_type": "code",
   "execution_count": 47,
   "metadata": {},
   "outputs": [],
   "source": [
    "def max_item(input_list):\n",
    "    max_num = input_list[0]\n",
    "    for i in input_list:\n",
    "        if max_num < i:\n",
    "            max_num = i\n",
    "    return max_num"
   ]
  },
  {
   "cell_type": "code",
   "execution_count": 48,
   "metadata": {},
   "outputs": [],
   "source": [
    "# WRITE SOLUTION HERE\n",
    "\n",
    "def find_item(input_list,num):\n",
    "    result = -1\n",
    "    for i in range(0,len(input_list)):\n",
    "        if input_list[i]==num:\n",
    "            return i\n",
    "    return result"
   ]
  },
  {
   "cell_type": "code",
   "execution_count": 56,
   "metadata": {},
   "outputs": [],
   "source": [
    "def closest_value(input_list,target):\n",
    "    min_value = input_list[0]-target\n",
    "    result = input_list[0]\n",
    "    for i in range(0,len(input_list)):\n",
    "        if min_value>input_list[i]-target:\n",
    "            result = input_list[i] \n",
    "    return result"
   ]
  },
  {
   "cell_type": "code",
   "execution_count": 64,
   "metadata": {},
   "outputs": [],
   "source": [
    "def rotate_list(input_list,shift_len):\n",
    "    list_idx = []\n",
    "    rot_list = []\n",
    "    L = len(input_list)\n",
    "    for i in range(0,L):\n",
    "            list_idx.append((i+L-shift_len)%L)\n",
    "    for i in list_idx:\n",
    "            rot_list.append(input_list[i])\n",
    "    return rot_list"
   ]
  },
  {
   "cell_type": "code",
   "execution_count": 71,
   "metadata": {},
   "outputs": [],
   "source": [
    "def count_matches(input_list_1, input_list_2):\n",
    "    count_equal = 0\n",
    "    for i in input_list_1:\n",
    "        for j in input_list_2:\n",
    "            if i==j:\n",
    "                count_equal += 1\n",
    "    return count_equal"
   ]
  },
  {
   "cell_type": "code",
   "execution_count": 63,
   "metadata": {},
   "outputs": [],
   "source": [
    "def count_matches_item(input_list_1,input_list_2):\n",
    "      L1 = len(input_list_1)\n",
    "      L2 = len(input_list_2)\n",
    "      if L1>L2:\n",
    "            L=L2\n",
    "      else:\n",
    "            L=L1\n",
    "      \n",
    "      count = 0\n",
    "      for i in range(0,L):\n",
    "            if input_list_1[i]==input_list_2[i]:\n",
    "                  count += 1\n",
    "      \n",
    "      return count"
   ]
  },
  {
   "cell_type": "code",
   "execution_count": 66,
   "metadata": {},
   "outputs": [],
   "source": [
    "def align_lists(input_list_1,input_list_2):\n",
    "     L = len(input_list_1)\n",
    "     result = 0\n",
    "     max_match_count = count_matches_item(input_list_1,input_list_2)\n",
    "     for i in range(0,L):\n",
    "           rotated_list = rotate_list(input_list_1,i)\n",
    "           match_count = count_matches_item(rotated_list,input_list_2)\n",
    "           #print(\"Rotate by \",i,\"   Rotated list is \",rotate_list,\"    cost func is \",match_count)\n",
    "           if match_count>max_match_count:\n",
    "                 result = L-i\n",
    "                 max_match_count = match_count\n",
    "     return result"
   ]
  },
  {
   "cell_type": "code",
   "execution_count": 67,
   "metadata": {},
   "outputs": [
    {
     "name": "stdout",
     "output_type": "stream",
     "text": [
      "Rotate by  0    Rotated list is  <function rotate_list at 0x0000027D8ABEB6A0>     cost func is  0\n",
      "Rotate by  1    Rotated list is  <function rotate_list at 0x0000027D8ABEB6A0>     cost func is  0\n",
      "Rotate by  2    Rotated list is  <function rotate_list at 0x0000027D8ABEB6A0>     cost func is  0\n",
      "Rotate by  3    Rotated list is  <function rotate_list at 0x0000027D8ABEB6A0>     cost func is  0\n",
      "Rotate by  4    Rotated list is  <function rotate_list at 0x0000027D8ABEB6A0>     cost func is  5\n"
     ]
    },
    {
     "data": {
      "text/plain": [
       "3"
      ]
     },
     "execution_count": 67,
     "metadata": {},
     "output_type": "execute_result"
    }
   ],
   "source": [
    "align_lists([1, 2, 3, 4, 5], [2, 3, 4, 5,1])"
   ]
  },
  {
   "cell_type": "code",
   "execution_count": 8,
   "metadata": {},
   "outputs": [],
   "source": [
    "def get_unique_words(sentence):\n",
    "    words_split = sentence.split()\n",
    "    sentence_no_punc = [i.strip('.!,-?&$@^') for i in words_split]\n",
    "    words_lower = [i.lower() for i in sentence_no_punc]\n",
    "    while(\"\" in words_lower):\n",
    "        words_lower.remove(\"\")\n",
    "    words = set(words_lower)\n",
    "    return words"
   ]
  },
  {
   "cell_type": "code",
   "execution_count": 47,
   "metadata": {},
   "outputs": [],
   "source": [
    "def count_occurrences(input_list):\n",
    "    dictionary = {}\n",
    "    keys_dict = []\n",
    "\n",
    "    for i in input_list:\n",
    "        if i not in keys_dict:\n",
    "            keys_dict.append(i)\n",
    "\n",
    "    for i in range(0,len(keys_dict)):\n",
    "        count = 0\n",
    "        for j in input_list:\n",
    "            if keys_dict[i]==j:\n",
    "                count += 1\n",
    "        dictionary[keys_dict[i]] = count\n",
    "\n",
    "    return dictionary"
   ]
  },
  {
   "cell_type": "code",
   "execution_count": 59,
   "metadata": {},
   "outputs": [],
   "source": [
    "def merge_list_of_dictionaries(input_list):\n",
    "\n",
    "    merged_dict = {}\n",
    "\n",
    "    for input_dict in input_list:\n",
    "        for unique_key in list(input_dict.keys()):\n",
    "            if unique_key not in merged_dict.keys():\n",
    "                merged_dict[unique_key] = input_dict[unique_key]\n",
    "            else:\n",
    "                merged_dict[unique_key] += input_dict[unique_key]\n",
    "\n",
    "    return merged_dict"
   ]
  }
 ],
 "metadata": {
  "kernelspec": {
   "display_name": "Python 3",
   "language": "python",
   "name": "python3"
  },
  "language_info": {
   "codemirror_mode": {
    "name": "ipython",
    "version": 3
   },
   "file_extension": ".py",
   "mimetype": "text/x-python",
   "name": "python",
   "nbconvert_exporter": "python",
   "pygments_lexer": "ipython3",
   "version": "3.11.0"
  },
  "orig_nbformat": 4
 },
 "nbformat": 4,
 "nbformat_minor": 2
}
