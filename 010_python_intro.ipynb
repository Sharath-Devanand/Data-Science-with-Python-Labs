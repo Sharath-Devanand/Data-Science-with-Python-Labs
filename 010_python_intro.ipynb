{
 "cells": [
  {
   "attachments": {},
   "cell_type": "markdown",
   "id": "24c3f0fb",
   "metadata": {},
   "source": [
    "# 010 Getting Started with Python\n",
    "\n",
    "> COM6018\n",
    "\n",
    "*Copyright &copy; 2023 Jon Barker, University of Sheffield. All rights reserved*.\n",
    "\n",
    "This notebook contains a number of exercises that will help you get started with Python.  It is not intended to be a comprehensive introduction to Python, but rather a quick introduction to some of the features that you will need for this module.\n",
    "\n",
    "At each stage there is a problem described for which you have to implement a solution in the following code cell. There is then a test cell which will run and check that your solution is correct.  If it is correct, the test cell will print \"Test passed\".  If it is not correct, the test cell will print \"Test failed\" and give you some information about what went wrong.\n",
    "\n"
   ]
  },
  {
   "attachments": {},
   "cell_type": "markdown",
   "id": "0312f2f4",
   "metadata": {},
   "source": [
    "## 1 Processing a list"
   ]
  },
  {
   "attachments": {},
   "cell_type": "markdown",
   "id": "d3e8cf30",
   "metadata": {},
   "source": [
    "### 1.1 Summing a list of numbers\n",
    "\n",
    "Write a function called `sum_list` that takes a list of numbers as an argument and returns the sum of the numbers in the list.  For example:\n",
    "\n",
    "```python\n",
    "sum_list([1, 2, 3, 4, 5])\n",
    "```\n",
    "\n",
    "should return `15`.\n",
    "\n",
    "You must write this function without using any of the built-in Python function that does this. Implement your function in the cell below and then run the following cell to check that it works."
   ]
  },
  {
   "cell_type": "code",
   "execution_count": 1,
   "id": "5143f7e6",
   "metadata": {},
   "outputs": [],
   "source": [
    "# WRITE SOLUTION HERE\n",
    "\n",
    "def sum_list(input_list):\n",
    "    sum_return = 0\n",
    "    for i in range(0,len(input_list)):\n",
    "        sum_return = sum_return + input_list[i]\n",
    "    return sum_return"
   ]
  },
  {
   "cell_type": "code",
   "execution_count": 2,
   "id": "947ff2d3",
   "metadata": {},
   "outputs": [
    {
     "name": "stdout",
     "output_type": "stream",
     "text": [
      "All tests passed\n"
     ]
    }
   ],
   "source": [
    "# TESTS\n",
    "assert sum_list([1,2,3,4,5]) == 15\n",
    "assert sum_list([-100]) == -100\n",
    "assert sum_list([]) == 0\n",
    "print(\"All tests passed\")"
   ]
  },
  {
   "attachments": {},
   "cell_type": "markdown",
   "id": "fcc49e55",
   "metadata": {},
   "source": [
    "### 1.2. Product of a list of numbers\n",
    "\n",
    "Write a function called `product_list` that takes a list of numbers as an argument and returns the product of the numbers in the list.  For example:\n",
    "\n",
    "```python\n",
    "product_list([1, 2, 3, 4, 5])\n",
    "```\n",
    "\n",
    "should return `120`."
   ]
  },
  {
   "cell_type": "code",
   "execution_count": 3,
   "id": "630a7648",
   "metadata": {},
   "outputs": [],
   "source": [
    "# WRITE SOLUTION HERE\n",
    "\n",
    "def product_list(input_list):\n",
    "    product_return = 1\n",
    "    for i in range(0,len(input_list)):\n",
    "        product_return = product_return*input_list[i]\n",
    "    return product_return"
   ]
  },
  {
   "cell_type": "code",
   "execution_count": 4,
   "id": "243fd155",
   "metadata": {},
   "outputs": [
    {
     "name": "stdout",
     "output_type": "stream",
     "text": [
      "All tests passed\n"
     ]
    }
   ],
   "source": [
    "# TESTS\n",
    "assert product_list([1,2,3,4,5]) == 120\n",
    "assert product_list([1,2,-4,0,5]) == 0\n",
    "assert product_list([]) == 1\n",
    "print(\"All tests passed\")"
   ]
  },
  {
   "attachments": {},
   "cell_type": "markdown",
   "id": "a9138862",
   "metadata": {},
   "source": [
    "### 1.3. Finding all values greater than a threshold\n",
    "\n",
    "Write a function called `greater_than` that takes a list of numbers and a threshold value as arguments and returns a list of all the numbers in the list that are greater than the threshold.  For example:\n",
    "\n",
    "```python\n",
    "greater_than([1, 2, 3, 4, 5], 3)\n",
    "```\n",
    "\n",
    "should return `[4, 5]`.\n",
    "\n",
    "First implement this function using a 'for' loop. i.e. iterate over the list and add each number that is greater than the threshold to a new list.  You can add a number to a list by using the `append` method.  For example:\n",
    "\n",
    "```python\n",
    "my_list = []\n",
    "my_list.append(1)\n",
    "my_list.append(2)\n",
    "```\n",
    "\n",
    "Implement this solution in the cell below and then run the following cell to check that it works."
   ]
  },
  {
   "cell_type": "code",
   "execution_count": 5,
   "id": "05f136ac",
   "metadata": {},
   "outputs": [],
   "source": [
    "# WRITE SOLUTION HERE\n",
    "\n",
    "def greater_than(input_list,thresh):\n",
    "    greater_list = []\n",
    "    for i in range(0,len(input_list)):\n",
    "        if input_list[i]>thresh:\n",
    "            greater_list.append(input_list[i])\n",
    "    return greater_list"
   ]
  },
  {
   "cell_type": "code",
   "execution_count": 6,
   "id": "1a39fc3b",
   "metadata": {},
   "outputs": [
    {
     "name": "stdout",
     "output_type": "stream",
     "text": [
      "All tests passed\n"
     ]
    }
   ],
   "source": [
    "# TESTS\n",
    "assert greater_than([1,2,3,4,5], 3) == [4,5]\n",
    "assert greater_than([1,2,3,4,5], 5) == []\n",
    "assert greater_than([1,2,3,4,5], 0) == [1,2,3,4,5]\n",
    "print(\"All tests passed\")"
   ]
  },
  {
   "attachments": {},
   "cell_type": "markdown",
   "id": "1925ffc6",
   "metadata": {},
   "source": [
    "Now implement the function again but this time using a list comprehension rather than an for loop. Check the tutorial on list comprehensions if you are not sure how to do this. Hint, you should be able to write the function with a single line.\n",
    "\n",
    "Call your new function `greater_than_lc`, implement it in the cell below and then run the test cell to check that it works."
   ]
  },
  {
   "cell_type": "code",
   "execution_count": 7,
   "id": "c004803c",
   "metadata": {},
   "outputs": [],
   "source": [
    "# WRITE SOLUTION HERE\n",
    "\n",
    "def greater_than_lc(input_list,thresh):\n",
    "    greater_list = [i for i in input_list if i>thresh]\n",
    "    return greater_list"
   ]
  },
  {
   "cell_type": "code",
   "execution_count": 8,
   "id": "54e972b1",
   "metadata": {},
   "outputs": [
    {
     "name": "stdout",
     "output_type": "stream",
     "text": [
      "All tests passed\n"
     ]
    }
   ],
   "source": [
    "# TESTS\n",
    "assert greater_than_lc([1,2,3,4,5], 3) == [4,5]\n",
    "assert greater_than_lc([1,2,3,4,5], 5) == []\n",
    "assert greater_than_lc([1,2,3,4,5], 0) == [1,2,3,4,5]\n",
    "print(\"All tests passed\")"
   ]
  },
  {
   "attachments": {},
   "cell_type": "markdown",
   "id": "b3a936c0",
   "metadata": {},
   "source": [
    "We are now going to compare the speed of the two implementation by using a very long list and the special %timeit magic function which is part of the Jupyter environment. The %timeit function will run a piece of code a number of times and report the average time taken.  Run the following cells to see how long it takes to run the two functions on a list of 1000000 numbers.\n"
   ]
  },
  {
   "cell_type": "code",
   "execution_count": 9,
   "id": "51f0821c",
   "metadata": {},
   "outputs": [],
   "source": [
    "big_list = [x for x in range(1000000)]"
   ]
  },
  {
   "cell_type": "code",
   "execution_count": 10,
   "id": "752d8b4f",
   "metadata": {},
   "outputs": [
    {
     "name": "stdout",
     "output_type": "stream",
     "text": [
      "40.6 ms ± 535 µs per loop (mean ± std. dev. of 7 runs, 10 loops each)\n"
     ]
    }
   ],
   "source": [
    "%timeit greater_than(big_list, 500000)"
   ]
  },
  {
   "cell_type": "code",
   "execution_count": 11,
   "id": "7ec1dc96",
   "metadata": {},
   "outputs": [
    {
     "name": "stdout",
     "output_type": "stream",
     "text": [
      "24.7 ms ± 999 µs per loop (mean ± std. dev. of 7 runs, 10 loops each)\n"
     ]
    }
   ],
   "source": [
    "%timeit greater_than_lc(big_list, 500000)"
   ]
  },
  {
   "attachments": {},
   "cell_type": "markdown",
   "id": "a6a32219",
   "metadata": {},
   "source": [
    "You should find that the version using the list comprehension is significantly faster than the version using the for loop.  This is because the for loop version is appending each number to the list. This is very slow. In other contexts for loops can be faster the list comprehensions. \n",
    "\n",
    "For example, let's run the above experiment again but this time using a much higher threshold value so that the output list had no items."
   ]
  },
  {
   "cell_type": "code",
   "execution_count": 12,
   "id": "b32e7dad",
   "metadata": {},
   "outputs": [
    {
     "name": "stdout",
     "output_type": "stream",
     "text": [
      "25.1 ms ± 354 µs per loop (mean ± std. dev. of 7 runs, 10 loops each)\n",
      "13.4 ms ± 171 µs per loop (mean ± std. dev. of 7 runs, 100 loops each)\n"
     ]
    }
   ],
   "source": [
    "%timeit greater_than(big_list, 1000000)\n",
    "%timeit greater_than_lc(big_list, 1000000)"
   ]
  },
  {
   "attachments": {},
   "cell_type": "markdown",
   "id": "c8075d7a",
   "metadata": {},
   "source": [
    "Notice that now that there are no items to add to the list, they both run faster but also that the speed difference between the for-loop version and the list comprehension version is much smaller."
   ]
  },
  {
   "attachments": {},
   "cell_type": "markdown",
   "id": "baa870a2",
   "metadata": {},
   "source": [
    "### 1.4 Finding words with more than N characters\n",
    "\n",
    "Write a function called `long_words` that takes a list of words and a threshold value as arguments and returns a list of all the words in the list that have more than N characters.  For example:\n",
    "\n",
    "```python\n",
    "long_words(['the', 'quick', 'brown', 'fox', 'jumped', 'over', 'the', 'lazy', 'dog'], 3)\n",
    "```\n",
    "\n",
    "should return `['quick', 'brown', 'jumped', 'over', 'lazy']`."
   ]
  },
  {
   "cell_type": "code",
   "execution_count": 13,
   "id": "e9d52716",
   "metadata": {},
   "outputs": [],
   "source": [
    "# WRITE SOLUTION HERE\n",
    "\n",
    "def long_words(input_str,thresh):\n",
    "    greater_words = []\n",
    "    for i in input_str:\n",
    "        if len(i)>thresh:\n",
    "            greater_words.append(i)\n",
    "    return greater_words"
   ]
  },
  {
   "cell_type": "code",
   "execution_count": 14,
   "id": "c25e85e7",
   "metadata": {},
   "outputs": [
    {
     "name": "stdout",
     "output_type": "stream",
     "text": [
      "All tests passed\n"
     ]
    }
   ],
   "source": [
    "# TESTS\n",
    "assert long_words([\"hello\", \"world\", \"this\", \"is\", \"a\", \"test\"], 3) == [\"hello\", \"world\", \"this\", \"test\"]\n",
    "assert long_words([\"hello\", \"world\", \"this\", \"is\", \"a\", \"test\"], 4) == [\"hello\", \"world\"]\n",
    "assert long_words([\"hello\", \"world\", \"this\", \"is\", \"a\", \"test\"], 0) == [\"hello\", \"world\", \"this\", \"is\", \"a\", \"test\"]\n",
    "assert long_words([\"hello\", \"world\", \"this\", \"is\", \"a\", \"test\"], 5) == []\n",
    "assert long_words([], 0) == []\n",
    "print(\"All tests passed\")"
   ]
  },
  {
   "attachments": {},
   "cell_type": "markdown",
   "id": "fe4f3cd5",
   "metadata": {},
   "source": [
    "## 2 Searching a list"
   ]
  },
  {
   "attachments": {},
   "cell_type": "markdown",
   "id": "5ebb22f6",
   "metadata": {},
   "source": [
    "### 2.1 Finding a specific value in a list\n",
    "\n",
    "Write a function called `find_item` that takes a list of values and an item to search for and returns the index of the first occurrence of the item in the list. The index should count from 0. If the item is not in the list, the function should return -1.  For example:\n",
    "\n",
    "```python\n",
    "find_item([1, 2, 3, 4, 5], 3)\n",
    "```\n",
    "\n",
    "should return `2`.\n"
   ]
  },
  {
   "cell_type": "code",
   "execution_count": 22,
   "id": "9ffdb2f7",
   "metadata": {},
   "outputs": [],
   "source": [
    "# WRITE SOLUTION HERE\n",
    "\n",
    "def find_item(input_list,num):\n",
    "    result = -1\n",
    "    for i in range(0,len(input_list)):\n",
    "        if input_list[i]==num:\n",
    "            return i\n",
    "    return result"
   ]
  },
  {
   "cell_type": "code",
   "execution_count": 23,
   "id": "f658fc82",
   "metadata": {},
   "outputs": [
    {
     "name": "stdout",
     "output_type": "stream",
     "text": [
      "All tests passed\n"
     ]
    }
   ],
   "source": [
    "# TESTS\n",
    "assert find_item([1,2,3,4,5], 3) == 2\n",
    "assert find_item([1,2,3,4,5], 1) == 0\n",
    "assert find_item([1,2,3,4,5], 6) == -1\n",
    "assert find_item([], 0) == -1\n",
    "print(\"All tests passed\")"
   ]
  },
  {
   "attachments": {},
   "cell_type": "markdown",
   "id": "bd606a9d",
   "metadata": {},
   "source": [
    "### 2.2 Finding the maximum value in a list\n",
    "\n",
    "Write a function called max_item that takes a list of numbers and returns the maximum value in the list.  For example:\n",
    "\n",
    "```python\n",
    "max_item([1, 2, 3, 4, 5])\n",
    "```\n",
    "\n",
    "should return `5`.\n",
    "\n",
    "You can assume that the list being passed to the function will always contain at least one item."
   ]
  },
  {
   "cell_type": "code",
   "execution_count": 24,
   "id": "23b00e2c",
   "metadata": {},
   "outputs": [],
   "source": [
    "# WRITE SOLUTION HERE\n",
    "\n",
    "def max_item(input_list):\n",
    "    max_num = input_list[0]\n",
    "    for i in input_list:\n",
    "        if max_num < i:\n",
    "            max_num = i\n",
    "    return max_num\n"
   ]
  },
  {
   "cell_type": "code",
   "execution_count": 25,
   "id": "dc694d68",
   "metadata": {},
   "outputs": [
    {
     "name": "stdout",
     "output_type": "stream",
     "text": [
      "All tests passed\n"
     ]
    }
   ],
   "source": [
    "# TESTS\n",
    "assert max_item([1,2,3,4,5]) == 5\n",
    "assert max_item([100,2,3,4,5]) == 100\n",
    "assert max_item([3,3,3]) == 3\n",
    "assert max_item([-1,-2,-3,-4,-5]) == -1\n",
    "print(\"All tests passed\")"
   ]
  },
  {
   "attachments": {},
   "cell_type": "markdown",
   "id": "f4d33b47",
   "metadata": {},
   "source": [
    "### 2.3 Finding the closest value in a list\n",
    "\n",
    "Write a function named `closest_value` that takes a list and a target value and returns the value in the list that is closest to the target value.  For example:\n",
    "\n",
    "```python\n",
    "closest_value([1, 2, 3, 4, 5], 3.2)\n",
    "```\n",
    "\n",
    "should return `3`.\n",
    "\n",
    "Again, you can assume that the list being passed to the function will always contain at least one item."
   ]
  },
  {
   "cell_type": "code",
   "execution_count": 8,
   "id": "b0b96b19",
   "metadata": {},
   "outputs": [],
   "source": [
    "# WRITE SOLUTION HERE\n",
    "\n",
    "def closest_value(input_list,target):\n",
    "    min_num = input_list[0]\n",
    "    for i in input_list:\n",
    "        \n",
    "        if target>i:\n",
    "            iter_diff = target - i\n",
    "        else:\n",
    "            iter_diff = i - target\n",
    "        \n",
    "        if min_num < target:\n",
    "            min_diff = target - min_num\n",
    "        else:\n",
    "            min_diff = min_num - target\n",
    "        \n",
    "        if min_diff>iter_diff:\n",
    "            min_num = i\n",
    "    return min_num"
   ]
  },
  {
   "cell_type": "code",
   "execution_count": 9,
   "id": "4f274674",
   "metadata": {},
   "outputs": [
    {
     "name": "stdout",
     "output_type": "stream",
     "text": [
      "All tests passed\n"
     ]
    }
   ],
   "source": [
    "# TESTS\n",
    "assert closest_value([1,2,3,4,5], 3.2) == 3\n",
    "assert closest_value([1,2,3,4,5], 3.8) == 4\n",
    "assert closest_value([1,2,3,4,5], -1) == 1\n",
    "assert closest_value([1,2,3,4,5], 10) == 5\n",
    "print(\"All tests passed\")\n"
   ]
  },
  {
   "attachments": {},
   "cell_type": "markdown",
   "id": "7ed5be1b",
   "metadata": {},
   "source": [
    "## 3. Applying functions to list values"
   ]
  },
  {
   "attachments": {},
   "cell_type": "markdown",
   "id": "ef5df24b",
   "metadata": {},
   "source": [
    "### 3.1 Squaring a list of numbers\n",
    "\n",
    "Write a function called `square_list` that takes a list of numbers and returns a new list with the square of each number in the list.  For example:\n",
    "\n",
    "```python\n",
    "square_list([1, 2, 3, 4, 5])\n",
    "```\n",
    "\n",
    "should return `[1, 4, 9, 16, 25]`."
   ]
  },
  {
   "cell_type": "code",
   "execution_count": 15,
   "id": "6fd18abe",
   "metadata": {},
   "outputs": [],
   "source": [
    "# WRITE SOLUTION HERE\n",
    "\n",
    "def square_list(input_list):\n",
    "    square_num_list = []\n",
    "    for i in input_list:\n",
    "        square_num_list.append(i**2)\n",
    "    return square_num_list"
   ]
  },
  {
   "cell_type": "code",
   "execution_count": 16,
   "id": "0360b272",
   "metadata": {},
   "outputs": [
    {
     "name": "stdout",
     "output_type": "stream",
     "text": [
      "All tests passed\n"
     ]
    }
   ],
   "source": [
    "# TESTS\n",
    "assert square_list([1,2,3,4,5]) == [1,4,9,16,25]\n",
    "assert square_list([-1,-2,-3,-4,-5]) == [1,4,9,16,25]\n",
    "assert square_list([]) == []\n",
    "print(\"All tests passed\")"
   ]
  },
  {
   "attachments": {},
   "cell_type": "markdown",
   "id": "127f5acd",
   "metadata": {},
   "source": [
    "### 3.2 Applying a function to a list of numbers \n",
    "\n",
    "Write a function called `apply_to_list` that takes a list of numbers and a function as arguments and returns a new list with the function applied to each number in the list.  For example:\n",
    "\n",
    "```python\n",
    "def square(x):\n",
    "    return x * x\n",
    "\n",
    "apply_to_list([1, 2, 3, 4, 5], square)\n",
    "```\n",
    "\n",
    "should return `[1, 4, 9, 16, 25]`."
   ]
  },
  {
   "cell_type": "code",
   "execution_count": 20,
   "id": "937debdb",
   "metadata": {},
   "outputs": [],
   "source": [
    "# WRITE SOLUTION HERE\n",
    "\n",
    "def apply_to_list(input_list,func):\n",
    "    apply_list = []\n",
    "    for i in input_list:\n",
    "        apply_list.append(func(i))\n",
    "    return apply_list"
   ]
  },
  {
   "cell_type": "code",
   "execution_count": 21,
   "id": "c2063a14",
   "metadata": {},
   "outputs": [
    {
     "name": "stdout",
     "output_type": "stream",
     "text": [
      "All tests passed\n"
     ]
    }
   ],
   "source": [
    "# TESTS\n",
    "def square(x):\n",
    "    return x**2\n",
    "\n",
    "assert apply_to_list([1,2,3,4,5], square) == [1,4,9,16,25]\n",
    "assert apply_to_list([-1,-2,-3,-4,-5], square) == [1,4,9,16,25]\n",
    "assert apply_to_list([], square) == []\n",
    "print(\"All tests passed\")\n"
   ]
  },
  {
   "attachments": {},
   "cell_type": "markdown",
   "id": "210c46dd",
   "metadata": {},
   "source": [
    "### 3.3 Computing numbers in the hailstone sequence \n",
    "\n",
    "Write a function called hailstone that returns the next number in the hailstone sequence for a list of numbers. The hailstone sequence is defined as follows:\n",
    "\n",
    "* If the number is even, divide it by two.\n",
    "* If the number is odd, multiply it by three and add one.\n",
    "\n",
    "Then write a function called hailstone_list that takes a list of numbers and returns a new list with the next number in the hailstone sequence for each number in the list.\n",
    "\n",
    "For example:\n",
    "\n",
    "```python\n",
    "hailstone_list([1, 2, 3, 4, 5])\n",
    "```\n",
    "\n",
    "should return `[4, 1, 10, 2, 16]`.\n",
    "\n"
   ]
  },
  {
   "cell_type": "code",
   "execution_count": 28,
   "id": "3d87a890",
   "metadata": {},
   "outputs": [],
   "source": [
    "# WRITE SOLUTION HERE\n",
    "\n",
    "def hailstone_list(input_list):\n",
    "    hailstone_result = []\n",
    "    for i in input_list:\n",
    "        if i%2==0:\n",
    "            hailstone_result.append(i/2)\n",
    "        else:\n",
    "            hailstone_result.append(3*i+1)\n",
    "    return hailstone_result\n"
   ]
  },
  {
   "cell_type": "code",
   "execution_count": 29,
   "id": "c169a194",
   "metadata": {},
   "outputs": [
    {
     "name": "stdout",
     "output_type": "stream",
     "text": [
      "All tests passed\n"
     ]
    }
   ],
   "source": [
    "# TESTS\n",
    "assert hailstone_list([1,2,3,4,5,6,7,8,9,10]) == [4,1,10,2,16,3,22,4,28,5]\n",
    "print(\"All tests passed\")"
   ]
  },
  {
   "attachments": {},
   "cell_type": "markdown",
   "id": "169894ee",
   "metadata": {},
   "source": [
    "## 4. Working with pairs of lists"
   ]
  },
  {
   "attachments": {},
   "cell_type": "markdown",
   "id": "98615289",
   "metadata": {},
   "source": [
    "### 4.1 Counting matching values in a pair of lists\n",
    "\n",
    "Write a function called `count_matches` that takes two lists of numbers as arguments and returns the number of values that occur in both lists.  For example:\n",
    "\n",
    "```python\n",
    "count_matches([1, 2, 3, 4, 5], [1, 2, 3, 0, 0])\n",
    "```\n",
    "\n",
    "should return `3`."
   ]
  },
  {
   "cell_type": "code",
   "execution_count": 34,
   "id": "ac56320b",
   "metadata": {},
   "outputs": [],
   "source": [
    "# WRITE SOLUTION HERE\n",
    "\n",
    "def count_matches(input_list_1, input_list_2):\n",
    "    count_equal = 0\n",
    "    for i in input_list_1:\n",
    "        for j in input_list_2:\n",
    "            if i==j:\n",
    "                count_equal += 1\n",
    "    return count_equal"
   ]
  },
  {
   "cell_type": "code",
   "execution_count": 31,
   "id": "b486b7f6",
   "metadata": {},
   "outputs": [
    {
     "name": "stdout",
     "output_type": "stream",
     "text": [
      "All tests passed\n"
     ]
    }
   ],
   "source": [
    "# TESTS\n",
    "assert count_matches([1,2,3,4,5], [1,2,3,4,5]) == 5\n",
    "assert count_matches([1,2,3,4,5], [1,2,3,4,6]) == 4\n",
    "assert count_matches([1,2,3,4,5], [1,2,3]) == 3\n",
    "assert count_matches([1,2,30,4], [1,2,3,4,5,6]) == 3\n",
    "assert count_matches([], []) == 0\n",
    "print(\"All tests passed\")"
   ]
  },
  {
   "attachments": {},
   "cell_type": "markdown",
   "id": "1e420590",
   "metadata": {},
   "source": [
    "### 4.2 Rotate list values by N\n",
    "\n",
    "Write a function called `rotate_list` that takes a list and returns a list of the same length but with the values in the original list shifted to the right by a given number of places.  The values should rotate around the list, i.e. values that are shifted off the end should reappear at the start.  \n",
    "\n",
    "For example:\n",
    "\n",
    "```python\n",
    "shift_list([1, 2, 3, 4, 5], 2)\n",
    "```\n",
    "\n",
    "should return `[4, 5, 1, 2, 3]`.\n",
    "\n",
    "Note, a negative value for the shift should rotate the values to the left.\n",
    "\n",
    "Hint, this can be written in a couple of lines if you use list slicing. Understanding how -ve values work with list slicing is important for this problem. i.e., understand the meaning of my_list[-1:] and my_list[:-1]."
   ]
  },
  {
   "cell_type": "code",
   "execution_count": 26,
   "id": "2d500be1",
   "metadata": {},
   "outputs": [],
   "source": [
    "# WRITE SOLUTION HERE\n",
    "\n",
    "def rotate_list(input_list,shift_len):\n",
    "    list_idx = []\n",
    "    rot_list = []\n",
    "    L = len(input_list)\n",
    "    for i in range(0,L):\n",
    "            list_idx.append((i+L-shift_len)%L)\n",
    "    for i in list_idx:\n",
    "            rot_list.append(input_list[i])\n",
    "    return rot_list"
   ]
  },
  {
   "cell_type": "code",
   "execution_count": 35,
   "id": "962af49e",
   "metadata": {},
   "outputs": [
    {
     "name": "stdout",
     "output_type": "stream",
     "text": [
      "All tests passed\n"
     ]
    }
   ],
   "source": [
    "# TESTS\n",
    "assert rotate_list([1,2,3,4,5], 1) == [5,1,2,3,4]\n",
    "assert rotate_list([1,2,3,4,5], 2) == [4,5,1,2,3]\n",
    "assert rotate_list([1,2,3,4,5], 7) == [4,5,1,2,3]\n",
    "assert rotate_list([1,2,3,4,5], 0) == [1,2,3,4,5]\n",
    "assert rotate_list([1,2,3,4,5], 5) == [1,2,3,4,5]\n",
    "assert rotate_list([1,2,3,4,5], -1) == [2,3,4,5,1]\n",
    "assert rotate_list([1,2,3,4,5], -11) == [2,3,4,5,1]\n",
    "print(\"All tests passed\")"
   ]
  },
  {
   "attachments": {},
   "cell_type": "markdown",
   "id": "683ef0c0",
   "metadata": {},
   "source": [
    "### 4.3 Aligning two \n",
    "\n",
    "Write a function called 'align_lists' that takes two lists and returns the right shift that should be applied to the second list to best align it with the first list.  The alignment is scored by counting the number of matching values in the two lists.  For example:\n",
    "\n",
    "```python\n",
    "align_lists([1, 2, 3, 4, 5], [2, 0, 4, 5, 1])\n",
    "``` \n",
    "\n",
    "should return `1` because the second list is best aligned when it is shifted one place to the right.\n",
    "\n",
    "Hint, you can use the rotate_list and count_matches functions you wrote above to help you solve this problem."
   ]
  },
  {
   "cell_type": "code",
   "execution_count": 31,
   "id": "82ad224b",
   "metadata": {},
   "outputs": [],
   "source": [
    "# WRITE SOLUTION HERE\n",
    "\n",
    "def count_matches_item(input_list_1,input_list_2):\n",
    "      L1 = len(input_list_1)\n",
    "      L2 = len(input_list_2)\n",
    "      if L1>L2:\n",
    "            L=L2\n",
    "      else:\n",
    "            L=L1\n",
    "      \n",
    "      count = 0\n",
    "      for i in range(0,L):\n",
    "            if input_list_1[i]==input_list_2[i]:\n",
    "                  count += 1\n",
    "      \n",
    "      return count\n",
    "\n",
    "\n",
    "def align_lists(input_list_1,input_list_2):\n",
    "     L = len(input_list_1)\n",
    "     result = 0\n",
    "     max_match_count = count_matches_item(input_list_1,input_list_2)\n",
    "     for i in range(0,L):\n",
    "           rotated_list = rotate_list(input_list_1,i)\n",
    "           match_count = count_matches_item(rotated_list,input_list_2)\n",
    "           if match_count>max_match_count:\n",
    "                 result = L-i\n",
    "                 max_match_count = match_count\n",
    "     return result"
   ]
  },
  {
   "cell_type": "code",
   "execution_count": 32,
   "id": "2863a723",
   "metadata": {},
   "outputs": [
    {
     "name": "stdout",
     "output_type": "stream",
     "text": [
      "All tests passed\n"
     ]
    }
   ],
   "source": [
    "# TESTS\n",
    "assert align_lists([1, 2, 3, 4, 5], [1, 2, 3, 4, 5]) == 0\n",
    "assert align_lists([1, 2, 3, 4, 5], [2, 3, 4, 5, 1]) == 1\n",
    "assert align_lists([2, 3, 4, 5, 1], [1, 2, 3, 4, 5]) == 4\n",
    "assert align_lists([1, 2, 3, 4, 5], [2, 0, 4, 5, 1]) == 1\n",
    "print(\"All tests passed\")\n"
   ]
  },
  {
   "attachments": {},
   "cell_type": "markdown",
   "id": "f5a141ba",
   "metadata": {},
   "source": [
    "#### DNA sequence alignment demo\n",
    "\n",
    "If you have written the functions correctly, the following gene sequence alignment demo should work. \n",
    "\n",
    "DNA sequences can be represented by sequences of the symbols A, C, G and T representing the four `bases` that appear in DNA. The demo imagines that you have two snippets of DNA and wish to compare them by seeing how many matching bases they have. However, the two sequences are not aligned, i.e. the snippets don't start at exactly the same position in the DNA sequence. The demo will align the sequences by shifting one of them to the right and then score the alignment by counting the number of matching bases. The alignment with the highest score is the best alignment and is used to compute the similarity between the two sequences, i.e. the percentage of bases that match.\n",
    "\n",
    "\n",
    "\n",
    "❗ Note how the demo is passing strings to functions that expect lists. This works because in Python strings are represented as lists of characters. A string can be used in any place that expects a list.\n"
   ]
  },
  {
   "cell_type": "code",
   "execution_count": 35,
   "id": "d2437f88",
   "metadata": {},
   "outputs": [
    {
     "name": "stdout",
     "output_type": "stream",
     "text": [
      "Original sequences:\n",
      "GAATGCGGGGTAAAAAATGGCACTTAACCCTTCAAATGACGACCCTGCCTGAGCTGCCGCCGGAAGAGCGTCCGGCAGCT\n",
      "GGGTAAAAAAGGGCACTTAACCCTTCAGATGACGACCCTGCGTGAGCTGCCGCCAGAAGAGCGTCCGGCAGCTGGTGCGG\n",
      "These sequences have a match score of 2102.5 %\n",
      "\n",
      "\n",
      "After shifting the second sequence 7 positions:\n",
      "GAATGCGGGGTAAAAAATGGCACTTAACCCTTCAAATGACGACCCTGCCTGAGCTGCCGCCGGAAGAGCGTCCGGCAGCT\n",
      "['G', 'G', 'T', 'G', 'C', 'G', 'G', 'G', 'G', 'G', 'T', 'A', 'A', 'A', 'A', 'A', 'A', 'G', 'G', 'G', 'C', 'A', 'C', 'T', 'T', 'A', 'A', 'C', 'C', 'C', 'T', 'T', 'C', 'A', 'G', 'A', 'T', 'G', 'A', 'C', 'G', 'A', 'C', 'C', 'C', 'T', 'G', 'C', 'G', 'T', 'G', 'A', 'G', 'C', 'T', 'G', 'C', 'C', 'G', 'C', 'C', 'A', 'G', 'A', 'A', 'G', 'A', 'G', 'C', 'G', 'T', 'C', 'C', 'G', 'G', 'C', 'A', 'G', 'C', 'T']\n",
      "These sequences have a match score of 2102.5 %\n"
     ]
    }
   ],
   "source": [
    "seq1 = \"GAATGCGGGGTAAAAAATGGCACTTAACCCTTCAAATGACGACCCTGCCTGAGCTGCCGCCGGAAGAGCGTCCGGCAGCT\"\n",
    "seq2 = \"GGGTAAAAAAGGGCACTTAACCCTTCAGATGACGACCCTGCGTGAGCTGCCGCCAGAAGAGCGTCCGGCAGCTGGTGCGG\"\n",
    "\n",
    "match_score = 100*count_matches(seq1, seq2)/len(seq1)\n",
    "shift = align_lists(seq1, seq2)\n",
    "aligned_seq2 = rotate_list(seq2, shift)\n",
    "aligned_match_score = 100*count_matches(seq1, aligned_seq2)/len(seq1)\n",
    "\n",
    "print(\"Original sequences:\")\n",
    "print(seq1)\n",
    "print(seq2)\n",
    "print(\"These sequences have a match score of\", match_score, \"%\")\n",
    "print(\"\\n\")\n",
    "print(\"After shifting the second sequence\", shift, \"positions:\")\n",
    "print(seq1)\n",
    "print(aligned_seq2)\n",
    "print(\"These sequences have a match score of\", aligned_match_score, \"%\")\n"
   ]
  },
  {
   "attachments": {},
   "cell_type": "markdown",
   "id": "d2c2fc4b",
   "metadata": {},
   "source": [
    "### 4.4 Multiplying pairs of values in two lists\n",
    "\n",
    "Write a function called `multiply_lists` that takes two lists of numbers as arguments and returns a new list with the product of the values in the two lists.  For example:\n",
    "\n",
    "```python\n",
    "multiply_lists([1, 2, 3, 4, 5], [1, 2, 3, 0, 0])\n",
    "```\n",
    "\n",
    "should return `[1, 4, 9, 0, 0]`.\n",
    "\n",
    "If the lists have unequal lengths the returned list should be the same length as the shorter list."
   ]
  },
  {
   "cell_type": "code",
   "execution_count": 8,
   "id": "64578e50",
   "metadata": {},
   "outputs": [],
   "source": [
    "# WRITE SOLUTION HERE\n",
    "\n",
    "def multiply_lists(input_list_1, input_list_2):\n",
    "    product_list = []\n",
    "    L1 = len(input_list_1)\n",
    "    L2 = len(input_list_2)\n",
    "\n",
    "    if L1<L2:\n",
    "        L = L1\n",
    "    else:\n",
    "        L = L2\n",
    "\n",
    "    for i in range(0,L):\n",
    "        product_list.append(input_list_1[i]*input_list_2[i])\n",
    "\n",
    "    return product_list"
   ]
  },
  {
   "cell_type": "code",
   "execution_count": 9,
   "id": "c309f255",
   "metadata": {},
   "outputs": [
    {
     "name": "stdout",
     "output_type": "stream",
     "text": [
      "All tests passed\n"
     ]
    }
   ],
   "source": [
    "# TESTS\n",
    "assert multiply_lists([1, 2, 3, 4, 5], [1, 2, 3, 4, 5]) == [1, 4, 9, 16, 25]\n",
    "assert multiply_lists([1, 2, 3, 4, 5], [2, 2, 2]) == [2, 4, 6]\n",
    "assert multiply_lists([1, 2, 3, 4, 5], [1, 2, 3, 0, 0]) == [1, 4, 9, 0, 0]\n",
    "assert multiply_lists([2, 2, 2], [1, 2, 3, 4, 5]) == [2, 4, 6]\n",
    "assert multiply_lists([1, 2, 3, 4, 5], []) == []\n",
    "print(\"All tests passed\")\n"
   ]
  },
  {
   "attachments": {},
   "cell_type": "markdown",
   "id": "be0c4591",
   "metadata": {},
   "source": [
    "### 4.5 Applying a function to pairs of values in two lists\n",
    "\n",
    "Write a function called `apply_to_lists` that takes two lists of numbers and a function as arguments and returns a new list with the function applied to the pairs of values in the two lists.  For example:\n",
    "\n",
    "```python\n",
    "def add(x, y):\n",
    "    return x + y\n",
    "\n",
    "apply_to_lists([1, 2, 3, 4, 5], [1, 2, 3, 0, 0], add)\n",
    "```\n",
    "\n",
    "should return `[2, 4, 6, 4, 5]`."
   ]
  },
  {
   "cell_type": "code",
   "execution_count": 1,
   "id": "5baf5e7e",
   "metadata": {},
   "outputs": [],
   "source": [
    "# WRITE SOLUTION HERE\n",
    "\n",
    "def apply_to_lists(input_list_1,input_list_2,func):\n",
    "    applied_list = []\n",
    "\n",
    "    L1 = len(input_list_1)\n",
    "    L2 = len(input_list_2)\n",
    "\n",
    "    if L1<L2:\n",
    "        L = L1\n",
    "    else:\n",
    "        L = L2\n",
    "\n",
    "    for i in range(0,L):\n",
    "        applied_list.append(func(input_list_1[i],input_list_2[i]))\n",
    "\n",
    "    return applied_list"
   ]
  },
  {
   "cell_type": "code",
   "execution_count": 2,
   "id": "8065df07",
   "metadata": {},
   "outputs": [
    {
     "name": "stdout",
     "output_type": "stream",
     "text": [
      "All tests passed\n"
     ]
    }
   ],
   "source": [
    "# TESTS\n",
    "assert apply_to_lists([1, 2, 3, 4, 5], [10, 20, 30, 40, 50], lambda x,y: x*y) == [10, 40, 90, 160, 250]\n",
    "assert apply_to_lists([1, 2, 3, 4, 5], [10, 20, 30, 40, 50], lambda x,y: x+y) == [11, 22, 33, 44, 55]\n",
    "print(\"All tests passed\")   "
   ]
  },
  {
   "attachments": {},
   "cell_type": "markdown",
   "id": "8782e906",
   "metadata": {},
   "source": [
    "The tests above are using `lambda` functions to define the function to be applied. Lambda functions are short functions that are defined inline and are convenient for this kind of problem. You can read about lambda functions [here](https://www.w3schools.com/python/python_lambda.asp) if you are interested. \n",
    "\n",
    "Without using lambda functions, the above example would look like this:\n"
   ]
  },
  {
   "cell_type": "code",
   "execution_count": 3,
   "id": "b1a8dfff",
   "metadata": {},
   "outputs": [
    {
     "name": "stdout",
     "output_type": "stream",
     "text": [
      "All tests passed\n"
     ]
    }
   ],
   "source": [
    "def add(x, y):\n",
    "    return x + y\n",
    "\n",
    "def multiply(x, y):\n",
    "    return x * y\n",
    "\n",
    "assert apply_to_lists([1, 2, 3, 4, 5], [10, 20, 30, 40, 50], multiply) == [10, 40, 90, 160, 250]\n",
    "assert apply_to_lists([1, 2, 3, 4, 5], [10, 20, 30, 40, 50], add) == [11, 22, 33, 44, 55]\n",
    "print(\"All tests passed\")"
   ]
  },
  {
   "attachments": {},
   "cell_type": "markdown",
   "id": "b8e2c0fa",
   "metadata": {},
   "source": [
    "## 5. Working with sets"
   ]
  },
  {
   "attachments": {},
   "cell_type": "markdown",
   "id": "49a2c2ae",
   "metadata": {},
   "source": [
    "### 5.1 Counting number of unique values in a list\n",
    "\n",
    "Write a function called `count_unique` that takes a list of numbers and returns the number of unique values in the list.  For example:\n",
    "\n",
    "```python\n",
    "count_unique([1, 2, 3, 4, 5, 1, 2, 3, 4, 5])\n",
    "```\n",
    "\n",
    "should return `5` because there are five unique values in the list.\n",
    "\n",
    "Hint: this problem can be solved trivially with a single line of code if you use a set."
   ]
  },
  {
   "cell_type": "code",
   "execution_count": 4,
   "id": "1bc8ea75",
   "metadata": {},
   "outputs": [],
   "source": [
    "# WRITE SOLUTION HERE\n",
    "\n",
    "def count_unique(input_list):\n",
    "    unique_list = []\n",
    "    for i in input_list:\n",
    "        if i not in unique_list:\n",
    "            unique_list.append(i)\n",
    "    return len(unique_list)"
   ]
  },
  {
   "cell_type": "code",
   "execution_count": 5,
   "id": "46f4e189",
   "metadata": {},
   "outputs": [
    {
     "name": "stdout",
     "output_type": "stream",
     "text": [
      "All tests passed\n"
     ]
    }
   ],
   "source": [
    "# TESTS\n",
    "assert count_unique([1, 2, 3, 4, 5]) == 5\n",
    "assert count_unique([1, 2, 3, 4, 5, 1, 2, 3]) == 5\n",
    "assert count_unique([1, 2, 3, 4, 5, 1, 2, 3, 1, 2, 3]) == 5\n",
    "assert count_unique([]) == 0\n",
    "print(\"All tests passed\")"
   ]
  },
  {
   "attachments": {},
   "cell_type": "markdown",
   "id": "be11782c",
   "metadata": {},
   "source": [
    "### 5.2 Counting number of unique words in a text passage\n",
    "\n",
    "Write a function called `get_unique_words` that takes a string of text and returns the set of unique words in the text. The function should ignore case, i.e. 'The' and 'the' count as the same word and should be returned as 'the'. Also it should ignore any punctuation in the string.  For example:\n",
    "\n",
    "```python\n",
    "count_unique_words('The quick brown fox jumped over the lazy dog.')\n",
    "```\n",
    "\n",
    "should return `{'the', 'quick', 'brown', 'fox', 'jumped', 'over', 'lazy', 'dog'}` because there are eight unique words in the text.\n",
    "\n",
    "Hint: You will want to use the split() function to split the text into words. You will also want to use the lower() function to convert all the words to lower case so that words that differ only in case are counted as the same word. You will also want to use the strip() function to remove punctuation from the words. If you `import string`, you can then use the `string.punctuation` variable to get a string containing all the punctuation characters.\n"
   ]
  },
  {
   "cell_type": "code",
   "execution_count": 7,
   "id": "2e448ec4",
   "metadata": {},
   "outputs": [],
   "source": [
    "# WRITE SOLUTION HERE\n",
    "\n",
    "def get_unique_words(sentence):\n",
    "    words_split = sentence.split()\n",
    "    sentence_no_punc = [i.strip('.!,-?&$@^') for i in words_split]\n",
    "    words_lower = [i.lower() for i in sentence_no_punc]\n",
    "    while(\"\" in words_lower):\n",
    "        words_lower.remove(\"\")\n",
    "    words = set(words_lower)\n",
    "    return words"
   ]
  },
  {
   "cell_type": "code",
   "execution_count": 8,
   "id": "6d7f2427",
   "metadata": {},
   "outputs": [
    {
     "name": "stdout",
     "output_type": "stream",
     "text": [
      "All tests passed\n"
     ]
    }
   ],
   "source": [
    "# TESTS\n",
    "assert get_unique_words('The quick brown fox jumped over the lazy dog.') == {'the', 'quick', 'brown', 'fox', 'jumped', 'over', 'lazy', 'dog'}\n",
    "assert get_unique_words('The very, very, very large dog barked.') == {'the', 'very', 'large', 'dog', 'barked'}\n",
    "assert get_unique_words('The large dog --- that barked -- was very, very LARGE!') == {'the', 'large', 'dog', 'that', 'barked', 'was', 'very'}\n",
    "assert get_unique_words('... @$! $^&&!! ?? !!') == set() # Empty set\n",
    "assert get_unique_words('0 00 10 10 01 11 11 10') == {'0', '00', '01', '10', '11'}  # Numbers count as words\n",
    "print(\"All tests passed\")"
   ]
  },
  {
   "attachments": {},
   "cell_type": "markdown",
   "id": "7d17a44d",
   "metadata": {},
   "source": [
    " ### 5.3 Finding the set of words that are shared between two text passages\n",
    "\n",
    "Write a function called `shared_words` that takes two strings of text and returns a list of the words that are shared between the two texts.  For example:\n",
    "\n",
    "```python\n",
    "shared_words('the quick brown fox jumped over the lazy dog', 'the lazy brown dog sat in the sun')\n",
    "```\n",
    "\n",
    "should return `['the', 'brown', 'dog']` because these are the words that are shared between the two texts."
   ]
  },
  {
   "cell_type": "code",
   "execution_count": 9,
   "id": "c8f580dc",
   "metadata": {},
   "outputs": [],
   "source": [
    "# WRITE SOLUTION HERE\n",
    "\n",
    "def shared_words(string1, string2):\n",
    "    same_words = set()\n",
    "    unique_words_1 = get_unique_words(string1)\n",
    "    unique_words_2 = get_unique_words(string2)\n",
    "\n",
    "    for i in unique_words_1:\n",
    "        for j in unique_words_2:\n",
    "            if i==j:\n",
    "                same_words.add(i)\n",
    "\n",
    "    return same_words"
   ]
  },
  {
   "cell_type": "code",
   "execution_count": 10,
   "id": "a48e4a4a",
   "metadata": {},
   "outputs": [
    {
     "name": "stdout",
     "output_type": "stream",
     "text": [
      "All tests passed\n"
     ]
    }
   ],
   "source": [
    "# TESTS\n",
    "assert shared_words('The quick brown fox jumped over the lazy dog.', 'the lazy brown dog sat in the sun') == {'the', 'lazy', 'brown', 'dog'}\n",
    "assert shared_words('These two strings', 'have no shared words') == set()\n",
    "print(\"All tests passed\")"
   ]
  },
  {
   "attachments": {},
   "cell_type": "markdown",
   "id": "6e6d069f",
   "metadata": {},
   "source": [
    "### 5.4 Finding words that occur in one text passage but not another\n",
    "\n",
    "Write a function called `non_shared_words` that takes two strings of text and returns a list of the words that occur in the first text but not the second.  For example:\n",
    "\n",
    "```python\n",
    "non_shared_words('the quick brown fox jumped over the lazy dog', 'the lazy brown dog sat in the sun')\n",
    "```\n",
    "\n",
    "should return `{'quick', 'fox', 'jumped', 'over'}` because these are the words that occur in the first text but not the second."
   ]
  },
  {
   "cell_type": "code",
   "execution_count": 17,
   "id": "d2e9c583",
   "metadata": {},
   "outputs": [],
   "source": [
    "# WRITE SOLUTION HERE\n",
    "\n",
    "def non_shared_words(string1, string2):\n",
    "    diff_words = set()\n",
    "    unique_words_1 = get_unique_words(string1)\n",
    "    unique_words_2 = get_unique_words(string2)\n",
    "\n",
    "    for i in unique_words_1:\n",
    "        count = 0\n",
    "        for j in unique_words_2:\n",
    "            if i!=j:\n",
    "                count += 1\n",
    "        if count==len(unique_words_2):\n",
    "            diff_words.add(i)\n",
    "    return diff_words"
   ]
  },
  {
   "cell_type": "code",
   "execution_count": 18,
   "id": "48389251",
   "metadata": {},
   "outputs": [
    {
     "name": "stdout",
     "output_type": "stream",
     "text": [
      "All tests passed\n"
     ]
    }
   ],
   "source": [
    "# TESTS\n",
    "assert non_shared_words('the quick brown fox jumped over the lazy dog', 'the lazy brown dog sat in the sun') == {'quick', 'fox', 'jumped', 'over'}\n",
    "assert non_shared_words('1 2 3 4 5 6 7', '4 5 6 7 8 9 10') == {'1', '2', '3'}   \n",
    "assert non_shared_words('4 5 6 7 8 9 10', '1 2 3 4 5 6 7') == {'8', '9', '10'}   \n",
    "assert non_shared_words('1 2 3 4 5', '') == {'1', '2', '3', '4', '5'}\n",
    "assert non_shared_words('1 2 3 4 5', '1 2 3 4 5') == set()\n",
    "print(\"All tests passed\")\n"
   ]
  },
  {
   "attachments": {},
   "cell_type": "markdown",
   "id": "c476a180",
   "metadata": {},
   "source": [
    "## 6. Working with dictionaries"
   ]
  },
  {
   "attachments": {},
   "cell_type": "markdown",
   "id": "d1558531",
   "metadata": {},
   "source": [
    "### 6.1 Checking if a key is in a dictionary\n",
    "\n",
    "Write a function called `has_key` that takes a dictionary and a key as arguments and returns `True` if the key is in the dictionary and `False` otherwise.  For example:\n",
    "\n",
    "```python\n",
    "has_key({'a': 1, 'b': 2, 'c': 3}, 'b')\n",
    "```\n",
    "\n",
    "should return `True` because the key `'b'` is in the dictionary.\n",
    "\n",
    "This is a trivial function that is just a single line of code. This is just an exercise. It wouldn't be useful in a real program."
   ]
  },
  {
   "cell_type": "code",
   "execution_count": 23,
   "id": "d682aeb6",
   "metadata": {},
   "outputs": [],
   "source": [
    "# WRITE SOLUTION HERE\n",
    "\n",
    "def has_key(input_dict,key_val):\n",
    "    return key_val in list(input_dict.keys())"
   ]
  },
  {
   "cell_type": "code",
   "execution_count": 24,
   "id": "601701d9",
   "metadata": {},
   "outputs": [
    {
     "name": "stdout",
     "output_type": "stream",
     "text": [
      "All tests passed\n"
     ]
    }
   ],
   "source": [
    "# TESTS\n",
    "assert has_key({'a': 1, 'b': 2, 'c': 3}, 'a') == True\n",
    "assert has_key({'a': 1, 'b': 2, 'c': 3}, 'd') == False\n",
    "print(\"All tests passed\")"
   ]
  },
  {
   "attachments": {},
   "cell_type": "markdown",
   "id": "23fe6fe9",
   "metadata": {},
   "source": [
    "### 6.2 Counting occurrences of values in a list\n",
    "\n",
    "Write a function called `count_occurrences` that takes a list and returns a dictionary that maps each unique value in the list to the number of times it occurs in the list. For example:\n",
    "\n",
    "```python\n",
    "count_occurrences(['a', 'b', 'a', 'c', 'a', 'b', 'a', 'd'])\n",
    "```\n",
    "\n",
    "should return `{'a': 4, 'b': 2, 'c': 1, 'd': 1}` because `'a'` occurs four times, `'b'` occurs twice, `'c'` and `'d'` occur once."
   ]
  },
  {
   "cell_type": "code",
   "execution_count": 2,
   "id": "91ec7a3b",
   "metadata": {},
   "outputs": [],
   "source": [
    "# WRITE SOLUTION HERE\n",
    "\n",
    "def count_occurrences(input_list):\n",
    "    dictionary = {}\n",
    "    keys_dict = []\n",
    "\n",
    "    for i in input_list:\n",
    "        if i not in keys_dict:\n",
    "            keys_dict.append(i)\n",
    "\n",
    "    for i in range(0,len(keys_dict)):\n",
    "        count = 0\n",
    "        for j in input_list:\n",
    "            if keys_dict[i]==j:\n",
    "                count += 1\n",
    "        dictionary[keys_dict[i]] = count\n",
    "\n",
    "    return dictionary"
   ]
  },
  {
   "cell_type": "code",
   "execution_count": 3,
   "id": "6a706526",
   "metadata": {},
   "outputs": [
    {
     "name": "stdout",
     "output_type": "stream",
     "text": [
      "All tests passed\n"
     ]
    }
   ],
   "source": [
    "# TESTS\n",
    "assert count_occurrences(['a', 'b', 'a', 'c', 'a', 'b', 'a', 'd']) == {'a': 4, 'b': 2, 'c': 1, 'd': 1}\n",
    "assert count_occurrences(['a', 'a', 'a', 'a', 'a']) == {'a': 5}\n",
    "assert count_occurrences(['a'] * 20 + ['b'] * 30 + ['c'] * 40) == {'a': 20, 'b': 30, 'c': 40}\n",
    "print(\"All tests passed\")"
   ]
  },
  {
   "attachments": {},
   "cell_type": "markdown",
   "id": "b6bbd8f2",
   "metadata": {},
   "source": [
    "### 6.3 Implementing a cache\n",
    "\n",
    "Write a function called `cache` that takes a function as an argument and returns a new function that caches the results of the function calls. If the function is called again with the same arguments, the cached result is returned instead of calling the function again. The function should print a message indicating whether the result was returned from the cache or computed. For example:\n",
    "\n",
    "```python\n",
    "\n",
    "def cache(func):\n",
    "    \"\"\"A function that takes a function as an argument and returns a new function that caches the results of the function calls. If the function is called again with the same arguments, the cached result is returned instead of calling the function again.\n",
    "\n",
    "    For example:\n",
    "\n",
    "    >>> def add(x, y):\n",
    "    ...     print('called add')\n",
    "    ...     return x + y\n",
    "    >>> cached_add = cache(add)\n",
    "    >>> cached_add(1, 2)\n",
    "    called function\n",
    "    3\n",
    "    >>> cached_add(1, 2)\n",
    "    retrieved from cache\n",
    "    3\n",
    "    >>> cached_add(2, 3)\n",
    "    called function\n",
    "    5\n",
    "    >>> cached_add(2, 3)\n",
    "    retrieved from cache\n",
    "    5\n",
    "    \"\"\"\n",
    "    pass\n",
    "```\n",
    "\n",
    ":warning: This is a difficult problem. Don't worry if you can't solve it. Some hints: a function can be defined inside a function and returned. Try writing it for a specifically for the 'add' function first. Then try to make it work for any function. If you get stuck just skip and go onto the next problem. Study the solution when it is posted."
   ]
  },
  {
   "cell_type": "code",
   "execution_count": null,
   "id": "fd64e8dc",
   "metadata": {},
   "outputs": [],
   "source": [
    "# WRITE SOLUTION HERE\n",
    "\n",
    "def cache(input_func):\n",
    "\n",
    "    \n",
    "    return 0"
   ]
  },
  {
   "cell_type": "code",
   "execution_count": null,
   "id": "b4055c53",
   "metadata": {},
   "outputs": [],
   "source": [
    "# TESTS\n",
    "cached_add = cache(lambda x, y: x + y)\n",
    "assert cached_add(1, 2) == 3  # will call function\n",
    "assert cached_add(1, 2) == 3  # will retrieve from cache\n",
    "assert cached_add(2, 3) == 5  # will call function\n",
    "assert cached_add(2, 3) == 5  # retrieve from cache\n",
    "print(\"All tests passed\")"
   ]
  },
  {
   "attachments": {},
   "cell_type": "markdown",
   "id": "e3b4cbf0",
   "metadata": {},
   "source": [
    "### 6.4 Map two lists into a dictionary\n",
    "\n",
    "Write a function called `make_dictionary` that takes two lists of equal length and returns a dictionary that maps the values in the first list to the values in the second list. For example:\n",
    "\n",
    "```python\n",
    "make_dictionary(['a', 'b', 'c'], [1, 2, 3])\n",
    "```\n",
    "\n",
    "should return `{'a': 1, 'b': 2, 'c': 3}`."
   ]
  },
  {
   "cell_type": "code",
   "execution_count": 4,
   "id": "b573a65e",
   "metadata": {},
   "outputs": [],
   "source": [
    "# WRITE SOLUTION HERE\n",
    "\n",
    "def make_dictionary(input_list_1, input_list_2):\n",
    "    output_dict = {}\n",
    "    \n",
    "    for i in range(0,len(input_list_1)):\n",
    "        output_dict[input_list_1[i]] = input_list_2[i]\n",
    "    return output_dict"
   ]
  },
  {
   "cell_type": "code",
   "execution_count": 5,
   "id": "5aead008",
   "metadata": {},
   "outputs": [
    {
     "name": "stdout",
     "output_type": "stream",
     "text": [
      "All tests passed\n"
     ]
    }
   ],
   "source": [
    "# TESTS\n",
    "assert make_dictionary(['a', 'b', 'c'], [1, 2, 3]) == {'a': 1, 'b': 2, 'c': 3}\n",
    "print(\"All tests passed\")"
   ]
  },
  {
   "attachments": {},
   "cell_type": "markdown",
   "id": "d60e7c3a",
   "metadata": {},
   "source": [
    "### 6.5 Merging a pair of dictionaries\n",
    "\n",
    "Write a function that takes a pair of dictionaries for which all the values are numeric and returns a new dictionary that contains the sum of the values for each key. For example:\n",
    "\n",
    "```python\n",
    "merge_dictionaries({'a': 1, 'b': 2, 'c': 3}, {'a': 4, 'b': 5, 'd': 6})\n",
    "```\n",
    "\n",
    "should return `{'a': 5, 'b': 7, 'c': 3, 'd': 6}`.\n"
   ]
  },
  {
   "cell_type": "code",
   "execution_count": 18,
   "id": "a612f60b",
   "metadata": {},
   "outputs": [],
   "source": [
    "# WRITE SOLUTION HERE\n",
    "\n",
    "def merge_dictionaries(input_dict_1, input_dict_2):\n",
    "\n",
    "    merged_dict = {}\n",
    "    for i in list(input_dict_1.keys()):\n",
    "        merged_dict[i] = input_dict_1[i]\n",
    "        \n",
    "    for i in list(input_dict_2.keys()):\n",
    "        if i not in list(input_dict_1.keys()):\n",
    "            merged_dict[i] = input_dict_2[i]\n",
    "        else:\n",
    "            merged_dict[i] += input_dict_2[i]\n",
    "            \n",
    "    return merged_dict"
   ]
  },
  {
   "cell_type": "code",
   "execution_count": 19,
   "id": "dc65f2c8",
   "metadata": {},
   "outputs": [
    {
     "name": "stdout",
     "output_type": "stream",
     "text": [
      "All tests passed\n"
     ]
    }
   ],
   "source": [
    "# TESTS\n",
    "dict1 = {'a': 1, 'b': 2}\n",
    "dict2 = {'b': 5, 'c': 3}\n",
    "assert merge_dictionaries(dict1, dict2) == {'a': 1, 'b': 7, 'c': 3}\n",
    "assert dict1 == {'a': 1, 'b': 2}  # Make sure original dictionaries are not modified\n",
    "assert dict2 == {'b': 5, 'c': 3}\n",
    "print(\"All tests passed\")"
   ]
  },
  {
   "attachments": {},
   "cell_type": "markdown",
   "id": "f0e54d2a",
   "metadata": {},
   "source": [
    "### 6.6  Merging a list of dictionaries\n",
    "\n",
    "Write a function called `merge_list_of_dictionaries` that takes a list of dictionaries for which all the values are numeric and returns a new dictionary that contains the sum of the values for each key. For example:\n",
    "\n",
    "```python\n",
    "merge_dictionaries([{'a': 1, 'b': 2, 'c': 3}, {'a': 4, 'b': 5, 'd': 6}, {'a': 7, 'c': 8, 'e': 9}])\n",
    "```\n",
    "\n",
    "should return `{'a': 12, 'b': 7, 'c': 11, 'd': 6, 'e': 9}`.\n",
    "\n",
    "You can use your `merge_dictionaries` function from the previous problem to help you solve this problem."
   ]
  },
  {
   "cell_type": "code",
   "execution_count": 22,
   "id": "051d3c0a",
   "metadata": {},
   "outputs": [],
   "source": [
    "# WRITE SOLUTION HERE\n",
    "\n",
    "def merge_list_of_dictionaries(input_list):\n",
    "\n",
    "    merged_dict = {}\n",
    "\n",
    "    for input_dict in input_list:\n",
    "        for unique_key in list(input_dict.keys()):\n",
    "            if unique_key not in merged_dict.keys():\n",
    "                merged_dict[unique_key] = input_dict[unique_key]\n",
    "            else:\n",
    "                merged_dict[unique_key] += input_dict[unique_key]\n",
    "\n",
    "    return merged_dict"
   ]
  },
  {
   "cell_type": "code",
   "execution_count": 23,
   "id": "c7d800bc",
   "metadata": {},
   "outputs": [
    {
     "name": "stdout",
     "output_type": "stream",
     "text": [
      "All tests passed\n"
     ]
    }
   ],
   "source": [
    "# TESTS\n",
    "assert merge_list_of_dictionaries([{'a': 1, 'b': 2, 'c': 3}, {'a': 4, 'b': 5, 'd': 6}, {'a': 7, 'c': 8, 'e': 9}]) == {'a': 12, 'b': 7, 'c': 11, 'd': 6, 'e': 9}\n",
    "print(\"All tests passed\")"
   ]
  },
  {
   "attachments": {},
   "cell_type": "markdown",
   "id": "e73f2851",
   "metadata": {},
   "source": [
    "*Copyright &copy; 2023 Jon Barker, University of Sheffield. All rights reserved*."
   ]
  }
 ],
 "metadata": {
  "jupytext": {
   "encoding": "# -*- coding: utf-8 -*-",
   "formats": "ipynb,py:percent",
   "text_representation": {
    "extension": ".py",
    "format_name": "percent",
    "format_version": "1.3",
    "jupytext_version": "1.4.1"
   }
  },
  "kernelspec": {
   "display_name": "python3",
   "language": "python",
   "name": "python3"
  },
  "language_info": {
   "codemirror_mode": {
    "name": "ipython",
    "version": 3
   },
   "file_extension": ".py",
   "mimetype": "text/x-python",
   "name": "python",
   "nbconvert_exporter": "python",
   "pygments_lexer": "ipython3",
   "version": "3.11.0"
  }
 },
 "nbformat": 4,
 "nbformat_minor": 5
}
